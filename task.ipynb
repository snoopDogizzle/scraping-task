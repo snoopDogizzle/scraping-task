{
 "cells": [
  {
   "cell_type": "code",
   "execution_count": 47,
   "metadata": {},
   "outputs": [],
   "source": [
    "from bs4 import BeautifulSoup \n",
    "import requests\n",
    "source = requests.get('https://www.midsouthshooterssupply.com/dept/reloading/primers?itemsperpage=90').text\n",
    " "
   ]
  },
  {
   "cell_type": "code",
   "execution_count": 50,
   "metadata": {},
   "outputs": [],
   "source": [
    "soup = BeautifulSoup(source,'lxml')\n",
    "products = soup.find('div',class_='product-container')\n",
    "catalog = products.find_all('span',class_='price')\n"
   ]
  },
  {
   "cell_type": "code",
   "execution_count": 142,
   "metadata": {},
   "outputs": [
    {
     "data": {
      "text/plain": [
       "{'price': '$52.64'}"
      ]
     },
     "execution_count": 142,
     "metadata": {},
     "output_type": "execute_result"
    }
   ],
   "source": [
    "price= []\n",
    "for itr in catalog:\n",
    "     price.append(itr.text)\n",
    "price\n",
    "\n",
    "   \n"
   ]
  },
  {
   "cell_type": "code",
   "execution_count": 92,
   "metadata": {},
   "outputs": [
    {
     "data": {
      "text/plain": [
       "[48.43,\n",
       " 38.99,\n",
       " 38.99,\n",
       " 38.99,\n",
       " 41.33,\n",
       " 41.33,\n",
       " 41.33,\n",
       " 41.33,\n",
       " 40.75,\n",
       " 41.33,\n",
       " 45.53,\n",
       " 44.95,\n",
       " 44.95,\n",
       " 40.75,\n",
       " 44.95,\n",
       " 48.14,\n",
       " 69.16,\n",
       " 261.07,\n",
       " 32.37,\n",
       " 32.37,\n",
       " 32.37,\n",
       " 32.37,\n",
       " 34.97,\n",
       " 32.37,\n",
       " 32.37,\n",
       " 49.79,\n",
       " 32.99,\n",
       " 41.91,\n",
       " 41.91,\n",
       " 46.26,\n",
       " 41.91,\n",
       " 41.91,\n",
       " 36.54,\n",
       " 41.91,\n",
       " 46.26,\n",
       " 48.14,\n",
       " 48.14,\n",
       " 48.14,\n",
       " 48.14,\n",
       " 48.14,\n",
       " 52.64]"
      ]
     },
     "execution_count": 92,
     "metadata": {},
     "output_type": "execute_result"
    }
   ],
   "source": [
    "final_price = []\n",
    "for itr in price:\n",
    "    mid = float(itr[1:])\n",
    "    final_price.append(mid)\n",
    "final_price\n",
    "                            \n",
    "   "
   ]
  },
  {
   "cell_type": "code",
   "execution_count": 52,
   "metadata": {},
   "outputs": [
    {
     "data": {
      "text/plain": [
       "['Winchester USA Ready Match Large Pistol Primers 1000 Count',\n",
       " 'Winchester USA Ready Match Large Rifle Primers 1000 Count',\n",
       " 'Winchester USA Ready Match Small Pistol Primers 1000 Count',\n",
       " 'Winchester USA Ready Match Small Rifle Primers 1000 Count',\n",
       " 'Winchester Small Pistol Primers 1000 Count',\n",
       " 'Winchester Large Pistol Primers 1000 Count',\n",
       " 'Winchester Small Rifle Primers 1000 Count',\n",
       " 'Winchester Large Rifle Primers 1000 Count',\n",
       " '#200 Large Rifle Primer (1000 Count)',\n",
       " 'Winchester Small Pistol Magnum Primers 1000 Count',\n",
       " 'Winchester Magnum Large Rifle Primers 1000 Count',\n",
       " '#450 Magnum Small Rifle Primer (1000 Count)',\n",
       " '#250 Magnum Large Rifle Primer (1000 Count)',\n",
       " '#550 Magnum Small Pistol Primer (1000 Count)',\n",
       " '#350 Magnum Large Pistol Primer (1000 Count)',\n",
       " 'Gold Medal Large Rifle Match Primer #GM210M (1000 Count)',\n",
       " 'BR4 Small Rifle Bench Rest Primer (1000 Count)',\n",
       " '#35 50 Caliber BMG Primer (500 Count)',\n",
       " '1 1/2 Small Pistol Primer (1000 Count)',\n",
       " '2 1/2 Large Pistol Primer (1000 Count)',\n",
       " '6 1/2 Small Rifle Primer (1000 Count)',\n",
       " '9 1/2 Large Rifle Primer (1000 Count)',\n",
       " '9 1/2 Magnum Large Rifle Primer (1000 Count)',\n",
       " '5 1/2 Small Mag Pistol Primer (1000 Count)',\n",
       " '7 1/2 Bench Rest Small Rifle Primer (1000 Count)',\n",
       " '209 Premier STS Shotshell Primer (1000 Count)',\n",
       " 'Winchester Shot Shell Primers 1000 Count',\n",
       " 'Federal Small Pistol Primer #100 (1000 Count)',\n",
       " 'Large Pistol Primer #150 (1000 Count)',\n",
       " 'Magnum Large Pistol Primer #155 (1000 Count)',\n",
       " 'Magnum Small Pistol Primer #200 (1000 Count)',\n",
       " 'Small Rifle Primer #205 (1000 Count)',\n",
       " '209A Shotshell Primer 1000 Count',\n",
       " 'Large Rifle Primer #210 (1000 Count)',\n",
       " 'Magnum Large Rifle Primer #215 (1000 Count)',\n",
       " 'Gold Medal Small Pistol Match Primer #GM100M (1000 Count)',\n",
       " 'Gold Medal Large Pistol Match Primer #GM150M (1000 Count)',\n",
       " 'Gold Medal Magnum Small Pistol Match Primer #GM200M (1000 Count)',\n",
       " 'Gold Medal Small Rifle Match Primer #GM205M (1000 Count)',\n",
       " 'Gold Medal AR Match Small Rifle Primer #GM205MAR (1000 Count)',\n",
       " 'Gold Medal Magnum Large Rifle Match Primer #GM215M (1000 Count)']"
      ]
     },
     "execution_count": 52,
     "metadata": {},
     "output_type": "execute_result"
    }
   ],
   "source": [
    "desc = products.find_all('a',class_='catalog-item-name')\n",
    "name = []\n",
    "for itr in desc:\n",
    "    name.append(itr.text)\n",
    "name"
   ]
  },
  {
   "cell_type": "code",
   "execution_count": 94,
   "metadata": {},
   "outputs": [
    {
     "data": {
      "text/plain": [
       "['Winchester',\n",
       " 'Winchester',\n",
       " 'Winchester',\n",
       " 'Winchester',\n",
       " 'Winchester',\n",
       " 'Winchester',\n",
       " 'Winchester',\n",
       " 'Winchester',\n",
       " 'CCI ',\n",
       " 'Winchester',\n",
       " 'Winchester',\n",
       " 'CCI ',\n",
       " 'CCI ',\n",
       " 'CCI ',\n",
       " 'CCI ',\n",
       " 'Federal ',\n",
       " 'CCI ',\n",
       " 'CCI ',\n",
       " 'Remington',\n",
       " 'Remington',\n",
       " 'Remington',\n",
       " 'Remington',\n",
       " 'Remington',\n",
       " 'Remington',\n",
       " 'Remington',\n",
       " 'Remington',\n",
       " 'Winchester',\n",
       " 'Federal ',\n",
       " 'Federal ',\n",
       " 'Federal ',\n",
       " 'Federal ',\n",
       " 'Federal ',\n",
       " 'Federal ',\n",
       " 'Federal ',\n",
       " 'Federal ',\n",
       " 'Federal ',\n",
       " 'Federal ',\n",
       " 'Federal ',\n",
       " 'Federal ',\n",
       " 'Federal ',\n",
       " 'Federal ']"
      ]
     },
     "execution_count": 94,
     "metadata": {},
     "output_type": "execute_result"
    }
   ],
   "source": [
    "desc_2 = products.find_all('a',class_='catalog-item-brand')\n",
    "maftr = []\n",
    "for  itr in desc_2:\n",
    "    maftr.append(itr.text)\n",
    "maftr"
   ]
  },
  {
   "cell_type": "code",
   "execution_count": null,
   "metadata": {},
   "outputs": [],
   "source": [
    " "
   ]
  },
  {
   "cell_type": "code",
   "execution_count": 95,
   "metadata": {},
   "outputs": [
    {
     "data": {
      "text/plain": [
       "['Out of Stock',\n",
       " 'Out of Stock',\n",
       " 'Out of Stock',\n",
       " 'Out of Stock',\n",
       " 'Out of Stock',\n",
       " 'Out of Stock',\n",
       " 'Out of Stock',\n",
       " 'Out of Stock',\n",
       " 'Out of Stock',\n",
       " 'Out of Stock',\n",
       " 'Out of Stock',\n",
       " 'Out of Stock',\n",
       " 'Out of Stock',\n",
       " 'Out of Stock',\n",
       " 'Out of Stock',\n",
       " 'Out of Stock',\n",
       " 'Out of Stock',\n",
       " 'Out of Stock',\n",
       " 'Out of Stock',\n",
       " 'Out of Stock',\n",
       " 'Out of Stock',\n",
       " 'Out of Stock',\n",
       " 'Out of Stock',\n",
       " 'Out of Stock',\n",
       " 'Out of Stock',\n",
       " 'Out of Stock',\n",
       " 'Out of Stock',\n",
       " 'Out of Stock',\n",
       " 'Out of Stock',\n",
       " 'Out of Stock',\n",
       " 'Out of Stock',\n",
       " 'Out of Stock',\n",
       " 'Out of Stock',\n",
       " 'Out of Stock',\n",
       " 'Out of Stock',\n",
       " 'Out of Stock',\n",
       " 'Out of Stock',\n",
       " 'Out of Stock',\n",
       " 'Out of Stock',\n",
       " 'Out of Stock',\n",
       " 'Out of Stock']"
      ]
     },
     "execution_count": 95,
     "metadata": {},
     "output_type": "execute_result"
    }
   ],
   "source": [
    "desc_4 = products.find_all('span',class_='out-of-stock')\n",
    "status = []\n",
    "for itr in desc_4:\n",
    "    status.append(itr.text)\n",
    "status\n"
   ]
  },
  {
   "cell_type": "code",
   "execution_count": 126,
   "metadata": {},
   "outputs": [],
   "source": [
    "bool_stat = []\n",
    "for itr in status:\n",
    "  if itr == 'Out of Stock':\n",
    "    bool_stat.append(False)\n",
    "  else:\n",
    "    bool_stat.append(True)\n"
   ]
  },
  {
   "cell_type": "code",
   "execution_count": 127,
   "metadata": {},
   "outputs": [],
   "source": [
    "##final_price name maftr bool_stat"
   ]
  },
  {
   "cell_type": "code",
   "execution_count": 145,
   "metadata": {},
   "outputs": [],
   "source": [
    "label = [ name,maftr,bool_stat,final_price]"
   ]
  },
  {
   "cell_type": "code",
   "execution_count": 146,
   "metadata": {},
   "outputs": [],
   "source": [
    "lst = []"
   ]
  },
  {
   "cell_type": "code",
   "execution_count": 148,
   "metadata": {},
   "outputs": [
    {
     "data": {
      "text/plain": [
       "[{'price': 52.64,\n",
       "  'name': 'Gold Medal Magnum Large Rifle Match Primer #GM215M (1000 Count)',\n",
       "  'status': False,\n",
       "  'manufactured': 'Federal '},\n",
       " {'price': 52.64,\n",
       "  'name': 'Gold Medal Magnum Large Rifle Match Primer #GM215M (1000 Count)',\n",
       "  'status': False,\n",
       "  'manufactured': 'Federal '},\n",
       " {'price': 52.64,\n",
       "  'name': 'Gold Medal Magnum Large Rifle Match Primer #GM215M (1000 Count)',\n",
       "  'status': False,\n",
       "  'manufactured': 'Federal '},\n",
       " {'price': 52.64,\n",
       "  'name': 'Gold Medal Magnum Large Rifle Match Primer #GM215M (1000 Count)',\n",
       "  'status': False,\n",
       "  'manufactured': 'Federal '},\n",
       " {'price': 52.64,\n",
       "  'name': 'Gold Medal Magnum Large Rifle Match Primer #GM215M (1000 Count)',\n",
       "  'status': False,\n",
       "  'manufactured': 'Federal '},\n",
       " {'price': 52.64,\n",
       "  'name': 'Gold Medal Magnum Large Rifle Match Primer #GM215M (1000 Count)',\n",
       "  'status': False,\n",
       "  'manufactured': 'Federal '},\n",
       " {'price': 52.64,\n",
       "  'name': 'Gold Medal Magnum Large Rifle Match Primer #GM215M (1000 Count)',\n",
       "  'status': False,\n",
       "  'manufactured': 'Federal '},\n",
       " {'price': 52.64,\n",
       "  'name': 'Gold Medal Magnum Large Rifle Match Primer #GM215M (1000 Count)',\n",
       "  'status': False,\n",
       "  'manufactured': 'Federal '},\n",
       " {'price': 52.64,\n",
       "  'name': 'Gold Medal Magnum Large Rifle Match Primer #GM215M (1000 Count)',\n",
       "  'status': False,\n",
       "  'manufactured': 'Federal '},\n",
       " {'price': 52.64,\n",
       "  'name': 'Gold Medal Magnum Large Rifle Match Primer #GM215M (1000 Count)',\n",
       "  'status': False,\n",
       "  'manufactured': 'Federal '},\n",
       " {'price': 52.64,\n",
       "  'name': 'Gold Medal Magnum Large Rifle Match Primer #GM215M (1000 Count)',\n",
       "  'status': False,\n",
       "  'manufactured': 'Federal '},\n",
       " {'price': 52.64,\n",
       "  'name': 'Gold Medal Magnum Large Rifle Match Primer #GM215M (1000 Count)',\n",
       "  'status': False,\n",
       "  'manufactured': 'Federal '},\n",
       " {'price': 52.64,\n",
       "  'name': 'Gold Medal Magnum Large Rifle Match Primer #GM215M (1000 Count)',\n",
       "  'status': False,\n",
       "  'manufactured': 'Federal '},\n",
       " {'price': 52.64,\n",
       "  'name': 'Gold Medal Magnum Large Rifle Match Primer #GM215M (1000 Count)',\n",
       "  'status': False,\n",
       "  'manufactured': 'Federal '},\n",
       " {'price': 52.64,\n",
       "  'name': 'Gold Medal Magnum Large Rifle Match Primer #GM215M (1000 Count)',\n",
       "  'status': False,\n",
       "  'manufactured': 'Federal '},\n",
       " {'price': 52.64,\n",
       "  'name': 'Gold Medal Magnum Large Rifle Match Primer #GM215M (1000 Count)',\n",
       "  'status': False,\n",
       "  'manufactured': 'Federal '},\n",
       " {'price': 52.64,\n",
       "  'name': 'Gold Medal Magnum Large Rifle Match Primer #GM215M (1000 Count)',\n",
       "  'status': False,\n",
       "  'manufactured': 'Federal '},\n",
       " {'price': 52.64,\n",
       "  'name': 'Gold Medal Magnum Large Rifle Match Primer #GM215M (1000 Count)',\n",
       "  'status': False,\n",
       "  'manufactured': 'Federal '},\n",
       " {'price': 52.64,\n",
       "  'name': 'Gold Medal Magnum Large Rifle Match Primer #GM215M (1000 Count)',\n",
       "  'status': False,\n",
       "  'manufactured': 'Federal '},\n",
       " {'price': 52.64,\n",
       "  'name': 'Gold Medal Magnum Large Rifle Match Primer #GM215M (1000 Count)',\n",
       "  'status': False,\n",
       "  'manufactured': 'Federal '},\n",
       " {'price': 52.64,\n",
       "  'name': 'Gold Medal Magnum Large Rifle Match Primer #GM215M (1000 Count)',\n",
       "  'status': False,\n",
       "  'manufactured': 'Federal '},\n",
       " {'price': 52.64,\n",
       "  'name': 'Gold Medal Magnum Large Rifle Match Primer #GM215M (1000 Count)',\n",
       "  'status': False,\n",
       "  'manufactured': 'Federal '},\n",
       " {'price': 52.64,\n",
       "  'name': 'Gold Medal Magnum Large Rifle Match Primer #GM215M (1000 Count)',\n",
       "  'status': False,\n",
       "  'manufactured': 'Federal '},\n",
       " {'price': 52.64,\n",
       "  'name': 'Gold Medal Magnum Large Rifle Match Primer #GM215M (1000 Count)',\n",
       "  'status': False,\n",
       "  'manufactured': 'Federal '},\n",
       " {'price': 52.64,\n",
       "  'name': 'Gold Medal Magnum Large Rifle Match Primer #GM215M (1000 Count)',\n",
       "  'status': False,\n",
       "  'manufactured': 'Federal '},\n",
       " {'price': 52.64,\n",
       "  'name': 'Gold Medal Magnum Large Rifle Match Primer #GM215M (1000 Count)',\n",
       "  'status': False,\n",
       "  'manufactured': 'Federal '},\n",
       " {'price': 52.64,\n",
       "  'name': 'Gold Medal Magnum Large Rifle Match Primer #GM215M (1000 Count)',\n",
       "  'status': False,\n",
       "  'manufactured': 'Federal '},\n",
       " {'price': 52.64,\n",
       "  'name': 'Gold Medal Magnum Large Rifle Match Primer #GM215M (1000 Count)',\n",
       "  'status': False,\n",
       "  'manufactured': 'Federal '},\n",
       " {'price': 52.64,\n",
       "  'name': 'Gold Medal Magnum Large Rifle Match Primer #GM215M (1000 Count)',\n",
       "  'status': False,\n",
       "  'manufactured': 'Federal '},\n",
       " {'price': 52.64,\n",
       "  'name': 'Gold Medal Magnum Large Rifle Match Primer #GM215M (1000 Count)',\n",
       "  'status': False,\n",
       "  'manufactured': 'Federal '},\n",
       " {'price': 52.64,\n",
       "  'name': 'Gold Medal Magnum Large Rifle Match Primer #GM215M (1000 Count)',\n",
       "  'status': False,\n",
       "  'manufactured': 'Federal '},\n",
       " {'price': 52.64,\n",
       "  'name': 'Gold Medal Magnum Large Rifle Match Primer #GM215M (1000 Count)',\n",
       "  'status': False,\n",
       "  'manufactured': 'Federal '},\n",
       " {'price': 52.64,\n",
       "  'name': 'Gold Medal Magnum Large Rifle Match Primer #GM215M (1000 Count)',\n",
       "  'status': False,\n",
       "  'manufactured': 'Federal '},\n",
       " {'price': 52.64,\n",
       "  'name': 'Gold Medal Magnum Large Rifle Match Primer #GM215M (1000 Count)',\n",
       "  'status': False,\n",
       "  'manufactured': 'Federal '},\n",
       " {'price': 52.64,\n",
       "  'name': 'Gold Medal Magnum Large Rifle Match Primer #GM215M (1000 Count)',\n",
       "  'status': False,\n",
       "  'manufactured': 'Federal '},\n",
       " {'price': 52.64,\n",
       "  'name': 'Gold Medal Magnum Large Rifle Match Primer #GM215M (1000 Count)',\n",
       "  'status': False,\n",
       "  'manufactured': 'Federal '},\n",
       " {'price': 52.64,\n",
       "  'name': 'Gold Medal Magnum Large Rifle Match Primer #GM215M (1000 Count)',\n",
       "  'status': False,\n",
       "  'manufactured': 'Federal '},\n",
       " {'price': 52.64,\n",
       "  'name': 'Gold Medal Magnum Large Rifle Match Primer #GM215M (1000 Count)',\n",
       "  'status': False,\n",
       "  'manufactured': 'Federal '},\n",
       " {'price': 52.64,\n",
       "  'name': 'Gold Medal Magnum Large Rifle Match Primer #GM215M (1000 Count)',\n",
       "  'status': False,\n",
       "  'manufactured': 'Federal '},\n",
       " {'price': 52.64,\n",
       "  'name': 'Gold Medal Magnum Large Rifle Match Primer #GM215M (1000 Count)',\n",
       "  'status': False,\n",
       "  'manufactured': 'Federal '}]"
      ]
     },
     "execution_count": 148,
     "metadata": {},
     "output_type": "execute_result"
    }
   ],
   "source": [
    "dict = {} \n",
    "for i in range(1,len(name)):\n",
    "    dic['name'] = name[i]\n",
    "    dic['price'] = final_price[i]\n",
    "    dic['status'] = bool_stat[i]\n",
    "    dic['manufactured'] = maftr[i]\n",
    "    lst.append(dic)\n",
    "lst"
   ]
  },
  {
   "cell_type": "code",
   "execution_count": 155,
   "metadata": {},
   "outputs": [],
   "source": [
    "import json \n",
    "answer = json.dumps(lst)\n",
    "with open('answer.json','w') as ans:\n",
    "        ans.write(answer)\n",
    "        ans.close()\n",
    "    "
   ]
  },
  {
   "cell_type": "code",
   "execution_count": null,
   "metadata": {},
   "outputs": [],
   "source": []
  }
 ],
 "metadata": {
  "kernelspec": {
   "display_name": "Python 3",
   "language": "python",
   "name": "python3"
  },
  "language_info": {
   "codemirror_mode": {
    "name": "ipython",
    "version": 3
   },
   "file_extension": ".py",
   "mimetype": "text/x-python",
   "name": "python",
   "nbconvert_exporter": "python",
   "pygments_lexer": "ipython3",
   "version": "3.8.5"
  }
 },
 "nbformat": 4,
 "nbformat_minor": 4
}
